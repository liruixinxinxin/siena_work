{
 "cells": [
  {
   "cell_type": "code",
   "execution_count": 18,
   "metadata": {},
   "outputs": [],
   "source": [
    "import mne"
   ]
  },
  {
   "cell_type": "code",
   "execution_count": 19,
   "metadata": {},
   "outputs": [
    {
     "name": "stdout",
     "output_type": "stream",
     "text": [
      "Extracting EDF parameters from /home/liruixin/workspace/sinea/siena-scalp-eeg/data/PN00/PN00-1.edf...\n",
      "EDF file detected\n",
      "Setting channel info structure...\n",
      "Creating raw.info structure...\n"
     ]
    }
   ],
   "source": [
    "data = mne.io.read_raw_edf('/home/liruixin/workspace/sinea/siena-scalp-eeg/data/PN00/PN00-1.edf')"
   ]
  },
  {
   "cell_type": "code",
   "execution_count": 21,
   "metadata": {},
   "outputs": [
    {
     "data": {
      "text/plain": [
       "['EEG Fp1',\n",
       " 'EEG F3',\n",
       " 'EEG C3',\n",
       " 'EEG P3',\n",
       " 'EEG O1',\n",
       " 'EEG F7',\n",
       " 'EEG T3',\n",
       " 'EEG T5',\n",
       " 'EEG Fc1',\n",
       " 'EEG Fc5',\n",
       " 'EEG Cp1',\n",
       " 'EEG Cp5',\n",
       " 'EEG F9',\n",
       " 'EEG Fz',\n",
       " 'EEG Cz',\n",
       " 'EEG Pz',\n",
       " 'EEG Fp2',\n",
       " 'EEG F4',\n",
       " 'EEG C4',\n",
       " 'EEG P4',\n",
       " 'EEG O2',\n",
       " 'EEG F8',\n",
       " 'EEG T4',\n",
       " 'EEG T6',\n",
       " 'EEG Fc2',\n",
       " 'EEG Fc6',\n",
       " 'EEG Cp2',\n",
       " 'EEG Cp6',\n",
       " 'EEG F10',\n",
       " 'EKG EKG',\n",
       " 'SPO2',\n",
       " 'HR',\n",
       " '1',\n",
       " '2',\n",
       " 'MK']"
      ]
     },
     "execution_count": 21,
     "metadata": {},
     "output_type": "execute_result"
    }
   ],
   "source": [
    "data.ch_names"
   ]
  },
  {
   "cell_type": "code",
   "execution_count": 18,
   "metadata": {},
   "outputs": [
    {
     "name": "stdout",
     "output_type": "stream",
     "text": [
      "10218\n",
      "48537\n"
     ]
    }
   ],
   "source": [
    "def time_difference(time1, time2):\n",
    "    \"\"\"\n",
    "    计算两个时间的差值，时间格式为 \"小时.分钟.秒\"。\n",
    "    返回时间差（以秒为单位）。\n",
    "    \"\"\"\n",
    "    # 将时间转换为秒\n",
    "    def time_to_seconds(time):\n",
    "        h, m, s = map(int, time.split('.'))\n",
    "        return h * 3600 + m * 60 + s\n",
    "    # 计算时间差\n",
    "    if time_to_seconds(time1) > time_to_seconds(time2):\n",
    "        diff = abs(time_to_seconds('24.0.0') - time_to_seconds(time1)) + time_to_seconds(time2)\n",
    "    else : diff = abs(time_to_seconds(time2) - time_to_seconds(time1))\n",
    "    return diff\n",
    "# 示例\n",
    "time1 = '19.00.44'\n",
    "time2 = '21.51.02'\n",
    "time3 = '08.29.41'\n",
    "print(time_difference(time1, time2))  # 打印两个时间的差值\n",
    "print(time_difference(time1, time2)+time_difference(time2, time3))  # 打印两个时间的差值"
   ]
  },
  {
   "cell_type": "code",
   "execution_count": 3,
   "metadata": {},
   "outputs": [
    {
     "ename": "ImportError",
     "evalue": "libcudart.so.11.0: cannot open shared object file: No such file or directory",
     "output_type": "error",
     "traceback": [
      "\u001b[0;31m---------------------------------------------------------------------------\u001b[0m",
      "\u001b[0;31mImportError\u001b[0m                               Traceback (most recent call last)",
      "Cell \u001b[0;32mIn[3], line 1\u001b[0m\n\u001b[0;32m----> 1\u001b[0m \u001b[39mimport\u001b[39;00m \u001b[39mexodus_cuda\u001b[39;00m\n",
      "\u001b[0;31mImportError\u001b[0m: libcudart.so.11.0: cannot open shared object file: No such file or directory"
     ]
    }
   ],
   "source": [
    "import exodus_cuda"
   ]
  },
  {
   "cell_type": "code",
   "execution_count": 4,
   "metadata": {},
   "outputs": [
    {
     "ename": "ImportError",
     "evalue": "libcudart.so.11.0: cannot open shared object file: No such file or directory",
     "output_type": "error",
     "traceback": [
      "\u001b[0;31m---------------------------------------------------------------------------\u001b[0m",
      "\u001b[0;31mImportError\u001b[0m                               Traceback (most recent call last)",
      "Cell \u001b[0;32mIn[4], line 1\u001b[0m\n\u001b[0;32m----> 1\u001b[0m \u001b[39mfrom\u001b[39;00m \u001b[39msinabs\u001b[39;00m\u001b[39m.\u001b[39;00m\u001b[39mexodus\u001b[39;00m\u001b[39m.\u001b[39;00m\u001b[39mleaky\u001b[39;00m \u001b[39mimport\u001b[39;00m LeakyIntegrator\n",
      "File \u001b[0;32m~/workspace/sinea/siena_eeg/lib/python3.8/site-packages/sinabs/exodus/__init__.py:9\u001b[0m\n\u001b[1;32m      6\u001b[0m \u001b[39mfrom\u001b[39;00m \u001b[39m.\u001b[39;00m \u001b[39mimport\u001b[39;00m _version\n\u001b[1;32m      7\u001b[0m __version__ \u001b[39m=\u001b[39m _version\u001b[39m.\u001b[39mget_versions()[\u001b[39m'\u001b[39m\u001b[39mversion\u001b[39m\u001b[39m'\u001b[39m]\n\u001b[0;32m----> 9\u001b[0m \u001b[39mfrom\u001b[39;00m \u001b[39m.\u001b[39;00m \u001b[39mimport\u001b[39;00m conversion\n",
      "File \u001b[0;32m~/workspace/sinea/siena_eeg/lib/python3.8/site-packages/sinabs/exodus/conversion.py:2\u001b[0m\n\u001b[1;32m      1\u001b[0m \u001b[39mimport\u001b[39;00m \u001b[39msinabs\u001b[39;00m\u001b[39m.\u001b[39;00m\u001b[39mlayers\u001b[39;00m \u001b[39mas\u001b[39;00m \u001b[39msl\u001b[39;00m\n\u001b[0;32m----> 2\u001b[0m \u001b[39mimport\u001b[39;00m \u001b[39msinabs\u001b[39;00m\u001b[39m.\u001b[39;00m\u001b[39mexodus\u001b[39;00m\u001b[39m.\u001b[39;00m\u001b[39mlayers\u001b[39;00m \u001b[39mas\u001b[39;00m \u001b[39mel\u001b[39;00m\n\u001b[1;32m      3\u001b[0m \u001b[39mimport\u001b[39;00m \u001b[39mtorch\u001b[39;00m\n\u001b[1;32m      4\u001b[0m \u001b[39mimport\u001b[39;00m \u001b[39msinabs\u001b[39;00m\n",
      "File \u001b[0;32m~/workspace/sinea/siena_eeg/lib/python3.8/site-packages/sinabs/exodus/layers/__init__.py:1\u001b[0m\n\u001b[0;32m----> 1\u001b[0m \u001b[39mfrom\u001b[39;00m \u001b[39m.\u001b[39;00m\u001b[39mlif\u001b[39;00m \u001b[39mimport\u001b[39;00m LIF, LIFSqueeze\n\u001b[1;32m      2\u001b[0m \u001b[39mfrom\u001b[39;00m \u001b[39m.\u001b[39;00m\u001b[39miaf\u001b[39;00m \u001b[39mimport\u001b[39;00m IAF, IAFSqueeze\n\u001b[1;32m      3\u001b[0m \u001b[39mfrom\u001b[39;00m \u001b[39m.\u001b[39;00m\u001b[39mexp_leak\u001b[39;00m \u001b[39mimport\u001b[39;00m ExpLeak, ExpLeakSqueeze\n",
      "File \u001b[0;32m~/workspace/sinea/siena_eeg/lib/python3.8/site-packages/sinabs/exodus/layers/lif.py:14\u001b[0m\n\u001b[1;32m      5\u001b[0m \u001b[39mfrom\u001b[39;00m \u001b[39msinabs\u001b[39;00m\u001b[39m.\u001b[39;00m\u001b[39mlayers\u001b[39;00m \u001b[39mimport\u001b[39;00m LIF \u001b[39mas\u001b[39;00m LIFSinabs\n\u001b[1;32m      6\u001b[0m \u001b[39mfrom\u001b[39;00m \u001b[39msinabs\u001b[39;00m\u001b[39m.\u001b[39;00m\u001b[39mactivation\u001b[39;00m \u001b[39mimport\u001b[39;00m (\n\u001b[1;32m      7\u001b[0m     MultiSpike,\n\u001b[1;32m      8\u001b[0m     SingleSpike,\n\u001b[0;32m   (...)\u001b[0m\n\u001b[1;32m     11\u001b[0m     SingleExponential,\n\u001b[1;32m     12\u001b[0m )\n\u001b[0;32m---> 14\u001b[0m \u001b[39mfrom\u001b[39;00m \u001b[39msinabs\u001b[39;00m\u001b[39m.\u001b[39;00m\u001b[39mexodus\u001b[39;00m\u001b[39m.\u001b[39;00m\u001b[39mleaky\u001b[39;00m \u001b[39mimport\u001b[39;00m LeakyIntegrator\n\u001b[1;32m     15\u001b[0m \u001b[39mfrom\u001b[39;00m \u001b[39msinabs\u001b[39;00m\u001b[39m.\u001b[39;00m\u001b[39mexodus\u001b[39;00m\u001b[39m.\u001b[39;00m\u001b[39mspike\u001b[39;00m \u001b[39mimport\u001b[39;00m IntegrateAndFire\n\u001b[1;32m     17\u001b[0m __all__ \u001b[39m=\u001b[39m [\u001b[39m\"\u001b[39m\u001b[39mLIF\u001b[39m\u001b[39m\"\u001b[39m, \u001b[39m\"\u001b[39m\u001b[39mLIFSqueeze\u001b[39m\u001b[39m\"\u001b[39m]\n",
      "File \u001b[0;32m~/workspace/sinea/siena_eeg/lib/python3.8/site-packages/sinabs/exodus/leaky.py:1\u001b[0m\n\u001b[0;32m----> 1\u001b[0m \u001b[39mimport\u001b[39;00m \u001b[39mexodus_cuda\u001b[39;00m\n\u001b[1;32m      2\u001b[0m \u001b[39mimport\u001b[39;00m \u001b[39mtorch\u001b[39;00m\n\u001b[1;32m      5\u001b[0m \u001b[39mclass\u001b[39;00m \u001b[39mLeakyIntegrator\u001b[39;00m(torch\u001b[39m.\u001b[39mautograd\u001b[39m.\u001b[39mFunction):\n",
      "\u001b[0;31mImportError\u001b[0m: libcudart.so.11.0: cannot open shared object file: No such file or directory"
     ]
    }
   ],
   "source": [
    "from sinabs.exodus.leaky import LeakyIntegrator"
   ]
  },
  {
   "cell_type": "code",
   "execution_count": null,
   "metadata": {},
   "outputs": [],
   "source": [
    "    isyn_exodus = LeakyIntegrator.apply(\n",
    "        data.contiguous(),  # Input\n",
    "        beta.contiguous(),  # beta\n",
    "        isyn.flatten().contiguous(),  # initial state\n",
    "    ).reshape(-1, self.n_synapses, time_steps)"
   ]
  }
 ],
 "metadata": {
  "kernelspec": {
   "display_name": "Python 3",
   "language": "python",
   "name": "python3"
  },
  "language_info": {
   "codemirror_mode": {
    "name": "ipython",
    "version": 3
   },
   "file_extension": ".py",
   "mimetype": "text/x-python",
   "name": "python",
   "nbconvert_exporter": "python",
   "pygments_lexer": "ipython3",
   "version": "3.8.10"
  },
  "orig_nbformat": 4
 },
 "nbformat": 4,
 "nbformat_minor": 2
}
